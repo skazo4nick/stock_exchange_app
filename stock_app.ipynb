{
 "cells": [
  {
   "cell_type": "code",
   "execution_count": null,
   "id": "import-libraries",
   "metadata": {},
   "outputs": [],
   "source": [
    "import snowflake.connector\n",
    "import pandas as pd\n",
    "import matplotlib.pyplot as plt\n",
    "import kaggle\n"
   ]
  },
  {
   "cell_type": "code",
   "execution_count": null,
   "id": "download-dataset",
   "metadata": {},
   "outputs": [],
   "source": [
    "# Download the dataset\n",
    "!kaggle datasets download -d hanaksoy/customer-purchasing-behaviors\n",
    "\n",
    "# Unzip and load into Snowflake\n",
    "import zipfile\n",
    "with zipfile.ZipFile('customer-purchasing-behaviors.zip', 'r') as zip_ref:\n",
    "    zip_ref.extractall('.')\n"
   ]
  },
  {
   "cell_type": "code",
   "execution_count": null,
   "id": "snowflake-connection",
   "metadata": {},
   "outputs": [],
   "source": [
    "# Snowflake connection details\n",
    "def create_snowflake_connection():\n",
    "    try:\n",
    "        conn = snowflake.connector.connect(\n",
    "            user='YOUR_USER',\n",
    "            password='YOUR_PASSWORD',\n",
    "            account='YOUR_ACCOUNT',\n",
    "            role='YOUR_ROLE',\n",
    "            warehouse='YOUR_WAREHOUSE',\n",
    "            database='YOUR_DATABASE',\n",
    "            schema='YOUR_SCHEMA'\n",
    "        )\n",
    "        return conn\n",
    "    except snowflake.connector.errors.ProgrammingError as e:\n",
    "        print(f\"Programming error: {e}\")\n",
    "    except snowflake.connector.errors.DatabaseError as e:\n",
    "        print(f\"Database error: {e}\")\n",
    "    except Exception as e:\n",
    "        print(f\"Unexpected error: {e}\")\n"
   ]
  },
  {
   "cell_type": "code",
   "execution_count": null,
   "id": "create-table",
   "metadata": {},
   "outputs": [],
   "source": [
    "# Create a table in Snowflake\n",
    "create_table_query = \"\"\"\n",
    "CREATE TABLE customer_purchasing_behavior (\n",
    "    customer_id INT,\n",
    "    age INT,\n",
    "    location STRING,\n",
    "    purchase_amount FLOAT,\n",
    "    purchase_date DATE\n",
    ")\n",
    "\"\"\"\n",
    "conn.cursor().execute(create_table_query)\n"
   ]
  },
  {
   "cell_type": "code",
   "execution_count": null,
   "id": "fetch-data",
   "metadata": {},
   "outputs": [],
   "source": [
    "# Fetch data from Snowflake\n",
    "def fetch_stock_prices():\n",
    "    conn = create_snowflake_connection()\n",
    "    query = \"SELECT * FROM stock_schema.stock_prices;\"\n",
    "    data = pd.read_sql(query, conn)\n",
    "    conn.close()\n",
    "    return data\n"
   ]
  },
  {
   "cell_type": "code",
   "execution_count": null,
   "id": "load-display-data",
   "metadata": {},
   "outputs": [],
   "source": [
    "# Load and display data\n",
    "data = fetch_stock_prices()\n",
    "data.head()"
   ]
  },
  {
   "cell_type": "code",
   "execution_count": null,
   "id": "visualize-data",
   "metadata": {},
   "outputs": [],
   "source": [
    "# Visualize OPEN_PRICE and CLOSE_PRICE\n",
    "plt.figure(figsize=(10, 5))\n",
    "plt.plot(data['trade_date'], data['open_price'], label='Open Price', marker='o')\n",
    "plt.plot(data['trade_date'], data['close_price'], label='Close Price', marker='x')\n",
    "plt.title('Open vs Close Prices')\n",
    "plt.xlabel('Trade Date')\n",
    "plt.ylabel('Price')\n",
    "plt.xticks(rotation=45)\n",
    "plt.legend()\n",
    "plt.tight_layout()\n",
    "plt.show()\n"
   ]
  },
  {
   "cell_type": "code",
   "execution_count": null,
   "id": "additional-visualizations",
   "metadata": {},
   "outputs": [],
   "source": [
    "# Additional Visualizations\n",
    "# Purchasing Trends\n",
    "plt.figure(figsize=(10, 5))\n",
    "plt.plot(data['purchase_date'], data['purchase_amount'], label='Purchase Amount', marker='o')\n",
    "plt.title('Purchasing Trends')\n",
    "plt.xlabel('Purchase Date')\n",
    "plt.ylabel('Amount')\n",
    "plt.xticks(rotation=45)\n",
    "plt.legend()\n",
    "plt.tight_layout()\n",
    "plt.show()\n",
    "\n",
    "# Customer Segments\n",
    "segment_data = data.groupby('age')['purchase_amount'].sum().reset_index()\n",
    "plt.figure(figsize=(10, 5))\n",
    "plt.bar(segment_data['age'], segment_data['purchase_amount'])\n",
    "plt.title('Purchase Totals by Age Group')\n",
    "plt.xlabel('Age Group')\n",
    "plt.ylabel('Total Purchase Amount')\n",
    "plt.tight_layout()\n",
    "plt.show()\n",
    "\n",
    "# Top Customers\n",
    "top_customers = data.groupby('customer_id')['purchase_amount'].sum().nlargest(10).reset_index()\n",
    "top_customers"
   ]
  }
 ],
 "metadata": {
  "kernelspec": {
   "display_name": "Python 3",
   "language": "python",
   "name": "python3"
  },
  "language_info": {
   "codemirror_mode": {
    "name": "ipython",
    "version": 3
  },
  "file_extension": ".py",
  "mimetype": "text/x-python",
  "name": "python",
  "nbconvert_exporter": "python",
  "pygments_lexer": "ipython3",
  "version": "3.8.5"
  }
 },
 "nbformat": 4,
 "nbformat_minor": 5
}
